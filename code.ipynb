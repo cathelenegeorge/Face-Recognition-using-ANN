{
 "cells": [
  {
   "cell_type": "code",
   "execution_count": null,
   "metadata": {},
   "outputs": [],
   "source": [
    "import numpy as np\n",
    "import cv2\n",
    "import os\n",
    "from sklearn.neural_network import MLPClassifier\n",
    "from sklearn.model_selection import train_test_split\n",
    "from sklearn.metrics import accuracy_score\n",
    "import matplotlib.pyplot as plt\n"
   ]
  },
  {
   "cell_type": "code",
   "execution_count": null,
   "metadata": {},
   "outputs": [],
   "source": [
    "def load_images_from_folder(folder):\n",
    "    images = []\n",
    "    labels = []\n",
    "    for label, subfolder in enumerate(os.listdir(folder)):\n",
    "        subfolder_path = os.path.join(folder, subfolder)\n",
    "        for filename in os.listdir(subfolder_path):\n",
    "            img = cv2.imread(os.path.join(subfolder_path, filename), cv2.IMREAD_GRAYSCALE)\n",
    "            if img is not None:\n",
    "                img = cv2.resize(img, (100, 100))  # Resize images to 100x100\n",
    "                images.append(img.flatten())  # Convert the image to a 1D vector\n",
    "                labels.append(label)\n",
    "    return np.array(images), np.array(labels)\n",
    "\n",
    "# Load the dataset\n",
    "X, y = load_images_from_folder('faces')  # Replace with your dataset path\n"
   ]
  },
  {
   "cell_type": "code",
   "execution_count": 11,
   "metadata": {},
   "outputs": [],
   "source": [
    "def pca(X, k):\n",
    "    # Step 1: Compute the mean of the images\n",
    "    mean_face = np.mean(X, axis=0)\n",
    "    \n",
    "    # Step 2: Subtract the mean face\n",
    "    X_centered = X - mean_face\n",
    "    \n",
    "    # Step 3: Compute the covariance matrix\n",
    "    covariance_matrix = np.cov(X_centered.T)\n",
    "    \n",
    "    # Step 4: Perform eigen decomposition\n",
    "    eigenvalues, eigenvectors = np.linalg.eig(covariance_matrix)\n",
    "    \n",
    "    # Step 5: Sort eigenvectors based on eigenvalues in descending order\n",
    "    idx = np.argsort(eigenvalues)[::-1]\n",
    "    eigenvectors = eigenvectors[:, idx][:, :k]  # Select the top k eigenvectors\n",
    "    \n",
    "    # Step 6: Project the centered images onto the eigenvectors\n",
    "    X_pca = np.dot(X_centered, eigenvectors)\n",
    "    \n",
    "    return X_pca, mean_face, eigenvectors\n",
    "\n",
    "# Choose the number of principal components (k)\n",
    "k = 50\n",
    "X_pca, mean_face, eigenvectors = pca(X, k)\n"
   ]
  },
  {
   "cell_type": "code",
   "execution_count": 12,
   "metadata": {},
   "outputs": [
    {
     "name": "stdout",
     "output_type": "stream",
     "text": [
      "Accuracy: 46.67%\n"
     ]
    }
   ],
   "source": [
    "X_pca_real = np.real(X_pca)\n",
    "# Split the dataset into training and testing sets (60% train, 40% test)\n",
    "X_train, X_test, y_train, y_test = train_test_split(X_pca_real, y, test_size=0.4, random_state=42)\n",
    "\n",
    "# Train an Artificial Neural Network (ANN) using MLPClassifier\n",
    "clf = MLPClassifier(hidden_layer_sizes=(100,), max_iter=500, alpha=0.001, solver='adam', random_state=42)\n",
    "clf.fit(X_train, y_train)\n",
    "\n",
    "# Test the classifier\n",
    "y_pred = clf.predict(X_test)\n",
    "accuracy = accuracy_score(y_test, y_pred)\n",
    "print(f'Accuracy: {accuracy * 100:.2f}%')\n"
   ]
  },
  {
   "cell_type": "code",
   "execution_count": 13,
   "metadata": {},
   "outputs": [
    {
     "name": "stdout",
     "output_type": "stream",
     "text": [
      "Predicted label: [4]\n"
     ]
    }
   ],
   "source": [
    "def test_face(test_img, mean_face, eigenvectors):\n",
    "    # Preprocess the test image\n",
    "    img = cv2.resize(test_img, (100, 100)).flatten()\n",
    "    \n",
    "    # Subtract the mean face\n",
    "    img_centered = img - mean_face\n",
    "    \n",
    "    # Project the test image onto the eigenvectors\n",
    "    img_projected = np.dot(img_centered, eigenvectors)\n",
    "    img_projected_real = np.real(img_projected)\n",
    "    \n",
    "    # Use the trained classifier to predict the label\n",
    "    return clf.predict([img_projected_real])\n",
    "\n",
    "# Load a test image\n",
    "test_img = cv2.imread('test.jpg', cv2.IMREAD_GRAYSCALE)  # Replace with your test image path\n",
    "\n",
    "# Predict the class for the test image\n",
    "prediction = test_face(test_img, mean_face, eigenvectors)\n",
    "print(f'Predicted label: {prediction}')\n"
   ]
  },
  {
   "cell_type": "code",
   "execution_count": 17,
   "metadata": {},
   "outputs": [
    {
     "name": "stdout",
     "output_type": "stream",
     "text": [
      "Predicted label: [8]\n"
     ]
    }
   ],
   "source": [
    "def recognize_imposter(test_img, mean_face, eigenvectors):\n",
    "    # Preprocess the test image (as done for other images)\n",
    "    img = cv2.resize(test_img, (100, 100)).flatten()\n",
    "    img_centered = img - mean_face\n",
    "    img_projected = np.dot(img_centered, eigenvectors)\n",
    "    img_projected_real = np.real(img_projected)\n",
    "    # Predict the class\n",
    "    prediction = clf.predict([img_projected_real])\n",
    "    \n",
    "    # If the predicted class is unknown, recognize as an imposter\n",
    "    # (Assuming you know the list of valid classes)\n",
    "    valid_classes = np.unique(y)  # All known classes\n",
    "    if prediction not in valid_classes:\n",
    "        return \"Imposter\"\n",
    "    else:\n",
    "        return f'Predicted label: {prediction}'\n",
    "\n",
    "# Test with a possible imposter image\n",
    "imposter_img = cv2.imread('imposter.jpg', cv2.IMREAD_GRAYSCALE)  # Replace with imposter image path\n",
    "imposter_result = recognize_imposter(imposter_img, mean_face, eigenvectors)\n",
    "print(imposter_result)\n"
   ]
  },
  {
   "cell_type": "code",
   "execution_count": 18,
   "metadata": {},
   "outputs": [],
   "source": [
    "def plot_accuracy_vs_k(X, y, k_values):\n",
    "    accuracies = []\n",
    "    \n",
    "    for k in k_values:\n",
    "        X_pca, _, _ = pca(X, k)\n",
    "        X_pca_real = np.real(X_pca)\n",
    "        X_train, X_test, y_train, y_test = train_test_split(X_pca_real, y, test_size=0.4, random_state=42)\n",
    "        clf = MLPClassifier(hidden_layer_sizes=(100,), max_iter=500, alpha=0.001, solver='adam', random_state=42)\n",
    "        clf.fit(X_train, y_train)\n",
    "        y_pred = clf.predict(X_test)\n",
    "        accuracies.append(accuracy_score(y_test, y_pred))\n",
    "    \n",
    "    plt.plot(k_values, accuracies)\n",
    "    plt.xlabel('k value')\n",
    "    plt.ylabel('Accuracy')\n",
    "    plt.title('Accuracy vs k Value')\n",
    "    plt.show()\n",
    "\n",
    "# Define a range of k values to test\n",
    "k_values = [10, 20, 30, 40, 50, 60, 70]\n",
    "plot_accuracy_vs_k(X, y, k_values)"
   ]
  }
 ],
 "metadata": {
  "kernelspec": {
   "display_name": "venv",
   "language": "python",
   "name": "python3"
  },
  "language_info": {
   "codemirror_mode": {
    "name": "ipython",
    "version": 3
   },
   "file_extension": ".py",
   "mimetype": "text/x-python",
   "name": "python",
   "nbconvert_exporter": "python",
   "pygments_lexer": "ipython3",
   "version": "3.12.6"
  }
 },
 "nbformat": 4,
 "nbformat_minor": 2
}
